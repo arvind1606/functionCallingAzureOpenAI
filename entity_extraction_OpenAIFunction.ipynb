{
 "cells": [
  {
   "cell_type": "code",
   "execution_count": 1,
   "id": "e268e606-e67a-4836-b4ef-5369405a5bdf",
   "metadata": {},
   "outputs": [],
   "source": [
    "# !pip freeze > requirements.txt"
   ]
  },
  {
   "cell_type": "markdown",
   "id": "8b5eea43-26d4-42fe-8afe-1214cd040759",
   "metadata": {},
   "source": [
    "## imports"
   ]
  },
  {
   "cell_type": "code",
   "execution_count": 1,
   "id": "09052bd9-a24b-42c6-8079-dc2ded823dc9",
   "metadata": {},
   "outputs": [],
   "source": [
    "from azure.ai.formrecognizer import FormRecognizerClient\n",
    "from azure.core.credentials import AzureKeyCredential\n",
    "from azure.ai.formrecognizer import DocumentAnalysisClient"
   ]
  },
  {
   "cell_type": "code",
   "execution_count": 3,
   "id": "b96fe59e-f92f-42e4-a080-f5f89b3a998a",
   "metadata": {},
   "outputs": [],
   "source": [
    "import pandas as pd\n",
    "import openai\n",
    "import glob\n",
    "import json\n",
    "import ast\n",
    "from os import path \n",
    "import tiktoken\n",
    "from dotenv import load_dotenv"
   ]
  },
  {
   "cell_type": "code",
   "execution_count": 4,
   "id": "b8751518-0702-4c6d-9246-188ba4b9e162",
   "metadata": {},
   "outputs": [],
   "source": [
    "from pydantic import BaseModel, validator\n",
    "from langchain.docstore.document import Document\n",
    "from langchain.text_splitter import RecursiveCharacterTextSplitter\n",
    "import yaml\n",
    "from yaml.loader import SafeLoader\n",
    "import os\n",
    "import tiktoken\n",
    "from langchain.chat_models import AzureChatOpenAI\n",
    "from openai import AzureOpenAI\n",
    "import warnings\n",
    "warnings.filterwarnings(\"ignore\")"
   ]
  },
  {
   "cell_type": "markdown",
   "id": "eec0620a-6393-49cb-a266-9fbb1a2a9cc9",
   "metadata": {},
   "source": [
    "## setting env variable"
   ]
  },
  {
   "cell_type": "code",
   "execution_count": 6,
   "id": "fdcd7e2b-3b03-487e-ad19-d272e34f6589",
   "metadata": {},
   "outputs": [],
   "source": [
    "os.environ.update({\n",
    "    \"AZURE_OPENAI_API_KEY\": os.getenv(\"openai_api_key\"),\n",
    "    \"AZURE_OPENAI_ENDPOINT\": os.getenv(\"azure_endpoint\"),      \n",
    "})\n",
    "\n",
    "gpt_model = os.getenv(\"openai_model_gpt_name\")\n",
    "embedding_model = os.getenv(\"openai_model_embd_name\")\n",
    "\n",
    "azure_openai_version = os.getenv(\"openai_api_version\")\n",
    "gpt_model = os.getenv(\"openai_model_gpt_name\")"
   ]
  },
  {
   "cell_type": "code",
   "execution_count": 21,
   "id": "5d59a686-f412-4f8d-bcc9-0a8179355935",
   "metadata": {},
   "outputs": [
    {
     "data": {
      "text/plain": [
       "AIMessage(content='Hello! How can I assist you today?')"
      ]
     },
     "execution_count": 21,
     "metadata": {},
     "output_type": "execute_result"
    }
   ],
   "source": [
    "# defining LLMs\n",
    "llm = AzureChatOpenAI(openai_api_base=os.getenv(\"openai_api_base\"), temperature=0.5,\n",
    "                      deployment_name=gpt_model, openai_api_version=os.getenv(\"openai_api_version\"))\n",
    "\n",
    "# test LLM\n",
    "llm.invoke(\"hello\")"
   ]
  },
  {
   "cell_type": "code",
   "execution_count": 7,
   "id": "8943f374-4e6e-48d5-88bb-e3f3407312a8",
   "metadata": {},
   "outputs": [
    {
     "name": "stdout",
     "output_type": "stream",
     "text": [
      "    Contract Term Agreement Type\n",
      "0       Agreement            S&D\n",
      "1  Effective Date            S&D\n",
      "2         Parties            S&D\n",
      "3     Distributor            S&D\n",
      "4     Organon Hub            S&D\n"
     ]
    }
   ],
   "source": [
    "# read the list of the anomalies from xlsx\n",
    "excel_file = 'High Level Contract Analysis.xlsx'\n",
    "\n",
    "# Read the Excel file into a DataFrame\n",
    "df = pd.read_excel(excel_file)\n",
    "\n",
    "# Now you can work with the DataFrame 'df'\n",
    "print(df.head())  # Display the first few rows of the DataFrame"
   ]
  },
  {
   "cell_type": "code",
   "execution_count": 8,
   "id": "cf470f65-545a-41c2-a7b5-544df574c8c1",
   "metadata": {},
   "outputs": [
    {
     "data": {
      "text/plain": [
       "0           Agreement\n",
       "1      Effective Date\n",
       "2             Parties\n",
       "3         Distributor\n",
       "4         Organon Hub\n",
       "            ...      \n",
       "151              Term\n",
       "152          Duration\n",
       "153     Governing Law\n",
       "154      Counterparts\n",
       "155    Agreement Type\n",
       "Name: Contract Term, Length: 156, dtype: object"
      ]
     },
     "execution_count": 8,
     "metadata": {},
     "output_type": "execute_result"
    }
   ],
   "source": [
    "contract_terms = df[\"Contract Term\"]\n",
    "contract_terms"
   ]
  },
  {
   "cell_type": "code",
   "execution_count": 27,
   "id": "c0520182-2156-4b4d-9f70-bcfb8aa4c7d2",
   "metadata": {},
   "outputs": [],
   "source": [
    "# reading a sample contract, stored in txt format (already extracted from pdf)\n",
    "from langchain_community.document_loaders.text import TextLoader\n",
    "\n",
    "loader = TextLoader(\"./extracted_text/20030905_Distributorship Agreement_Maxalt.txt\")\n",
    "doc = loader.load()"
   ]
  },
  {
   "cell_type": "code",
   "execution_count": 28,
   "id": "9500fead-adfb-41f7-b90f-5b11e09cb386",
   "metadata": {},
   "outputs": [],
   "source": [
    "# doc"
   ]
  },
  {
   "cell_type": "markdown",
   "id": "f3f75955-d45d-41da-9d4b-05b4f82f08ae",
   "metadata": {},
   "source": [
    "## Key field list reading from xlsx file"
   ]
  },
  {
   "cell_type": "code",
   "execution_count": 29,
   "id": "1f342c8e-405f-4783-80bf-8b2e4feb6d3d",
   "metadata": {},
   "outputs": [
    {
     "data": {
      "text/plain": [
       "['Agreement',\n",
       " 'Effective Date',\n",
       " 'Parties',\n",
       " 'Distributor',\n",
       " 'Organon Hub',\n",
       " 'Definitions',\n",
       " 'Affiliate',\n",
       " 'Agency',\n",
       " 'IP Owners',\n",
       " 'MA']"
      ]
     },
     "execution_count": 29,
     "metadata": {},
     "output_type": "execute_result"
    }
   ],
   "source": [
    "key_fields_list = list(contract_terms[:10])\n",
    "key_fields_list"
   ]
  },
  {
   "cell_type": "markdown",
   "id": "0c756975-84a4-4385-be84-51bca4836922",
   "metadata": {},
   "source": [
    "# Implementing with function calling"
   ]
  },
  {
   "cell_type": "code",
   "execution_count": 15,
   "id": "4bb86802-2dd2-4380-8641-dbacafb5f785",
   "metadata": {},
   "outputs": [
    {
     "name": "stdout",
     "output_type": "stream",
     "text": [
      "{\n",
      "    \"properties\": {\n",
      "        \"Agreement\": {\n",
      "            \"type\": \"string\"\n",
      "        },\n",
      "        \"Effective Date\": {\n",
      "            \"type\": \"string\"\n",
      "        },\n",
      "        \"Parties\": {\n",
      "            \"type\": \"string\"\n",
      "        },\n",
      "        \"Distributor\": {\n",
      "            \"type\": \"string\"\n",
      "        },\n",
      "        \"Organon Hub\": {\n",
      "            \"type\": \"string\"\n",
      "        },\n",
      "        \"Definitions\": {\n",
      "            \"type\": \"string\"\n",
      "        },\n",
      "        \"Affiliate\": {\n",
      "            \"type\": \"string\"\n",
      "        },\n",
      "        \"Agency\": {\n",
      "            \"type\": \"string\"\n",
      "        },\n",
      "        \"IP Owners\": {\n",
      "            \"type\": \"string\"\n",
      "        },\n",
      "        \"MA\": {\n",
      "            \"type\": \"string\"\n",
      "        }\n",
      "    },\n",
      "    \"required\": []\n",
      "}\n"
     ]
    }
   ],
   "source": [
    "import json\n",
    "\n",
    "# Given list\n",
    "input_list = key_fields_list\n",
    "\n",
    "# Create JSON format\n",
    "json_format = {\n",
    "    \"properties\": {key: {\"type\": \"string\"} for key in input_list},\n",
    "    \"required\": []\n",
    "}\n",
    "\n",
    "# Convert dictionary to JSON string\n",
    "json_string = json.dumps(json_format, indent=4)\n",
    "\n",
    "# Print the JSON string\n",
    "print(json_string)"
   ]
  },
  {
   "cell_type": "code",
   "execution_count": 22,
   "id": "c48115a1-6e92-4eea-934f-9f1b1ab59a4c",
   "metadata": {},
   "outputs": [
    {
     "data": {
      "text/plain": [
       "dict"
      ]
     },
     "execution_count": 22,
     "metadata": {},
     "output_type": "execute_result"
    }
   ],
   "source": [
    "entity_dict = json.loads(json_string)\n",
    "type(entity_dict)"
   ]
  },
  {
   "cell_type": "code",
   "execution_count": 23,
   "id": "2ac414ab-9696-45a7-a77c-51cb46776665",
   "metadata": {},
   "outputs": [],
   "source": [
    "from langchain.chains import create_extraction_chain\n",
    "from openai import AzureOpenAI"
   ]
  },
  {
   "cell_type": "code",
   "execution_count": 30,
   "id": "f1da1d9f-5fbf-4741-aa75-2ff997b47d29",
   "metadata": {},
   "outputs": [],
   "source": [
    "# Input text from the document\n",
    "inp = str(doc)"
   ]
  },
  {
   "cell_type": "markdown",
   "id": "32d83fb6-1cdf-477b-81d4-3130843b1b37",
   "metadata": {},
   "source": [
    "Getting structured output from raw LLM generations is hard.\r\n",
    "\r\n",
    "For example, suppose you need the model output formatted with a specific schema for:\r\n",
    "\r\n",
    "Extracting a structured row to insert into a database\r\n",
    "Extracting API parameters\r\n",
    "Extracting different parts of a user query (e.g., for semantic vs keyword search)"
   ]
  },
  {
   "cell_type": "code",
   "execution_count": 25,
   "id": "1e49515a-b768-4f64-b10b-84bc995ed6b1",
   "metadata": {},
   "outputs": [
    {
     "data": {
      "text/plain": [
       "[{'Agreement': 'Distributorship Agreement',\n",
       "  'Effective Date': '5th day of September, 2003',\n",
       "  'Parties': 'Merck Sharp & Dohme Asia Pacific Services Pte. Ltd. and Kyorin Pharmaceutical Co., Ltd.',\n",
       "  'Definitions': 'Capitalized terms not otherwise defined in this Agreement shall have the meanings ascribed to them in the License Agreement, the Comprehensive Agreement and the Marketing Authorization Agreement.',\n",
       "  'Affiliate': 'Affiliates of MSDAPS shall mean Merck and Affiliates of Merck other than MSDAPS and Banyu.',\n",
       "  'Agency': 'Any governmental or other regulatory authority responsible for granting any health or pricing approvals, reimbursement prices or labels or other Registrations necessary before Product may be imported, repackaged, marketed or sold in the Territory.'}]"
      ]
     },
     "execution_count": 25,
     "metadata": {},
     "output_type": "execute_result"
    }
   ],
   "source": [
    "chain = create_extraction_chain(entity_dict, llm)\n",
    "chain.run(inp)"
   ]
  },
  {
   "cell_type": "code",
   "execution_count": null,
   "id": "86533bad-89a5-4065-a957-9cfe1d7da128",
   "metadata": {},
   "outputs": [],
   "source": []
  },
  {
   "cell_type": "code",
   "execution_count": null,
   "id": "252cd21b-67be-4476-a375-225a1f90c622",
   "metadata": {},
   "outputs": [],
   "source": []
  }
 ],
 "metadata": {
  "kernelspec": {
   "display_name": "env_openai",
   "language": "python",
   "name": "env_openai"
  },
  "language_info": {
   "codemirror_mode": {
    "name": "ipython",
    "version": 3
   },
   "file_extension": ".py",
   "mimetype": "text/x-python",
   "name": "python",
   "nbconvert_exporter": "python",
   "pygments_lexer": "ipython3",
   "version": "3.11.5"
  }
 },
 "nbformat": 4,
 "nbformat_minor": 5
}
